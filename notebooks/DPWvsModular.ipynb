{
 "cells": [
  {
   "cell_type": "code",
   "execution_count": 1,
   "metadata": {},
   "outputs": [
    {
     "name": "stderr",
     "output_type": "stream",
     "text": [
      "\u001b[1m\u001b[36mINFO: \u001b[39m\u001b[22m\u001b[36mRecompiling stale cache file /Users/rlee18/.julia/lib/v0.6/MCTS.ji for module MCTS.\n",
      "\u001b[39m\u001b[1m\u001b[36mINFO: \u001b[39m\u001b[22m\u001b[36mLoading HttpServer methods...\n",
      "\u001b[39m"
     ]
    }
   ],
   "source": [
    "using MCTS, POMDPModels"
   ]
  },
  {
   "cell_type": "code",
   "execution_count": 2,
   "metadata": {},
   "outputs": [
    {
     "data": {
      "text/plain": [
       "POMDPModels.GridWorldState(1, 1, false)"
      ]
     },
     "execution_count": 2,
     "metadata": {},
     "output_type": "execute_result"
    }
   ],
   "source": [
    "n_iters = 50\n",
    "depth = 15\n",
    "ec = 1.0\n",
    "s0 = GridWorldState(1,1)"
   ]
  },
  {
   "cell_type": "code",
   "execution_count": 3,
   "metadata": {},
   "outputs": [
    {
     "data": {
      "text/plain": [
       ":down"
      ]
     },
     "execution_count": 3,
     "metadata": {},
     "output_type": "execute_result"
    }
   ],
   "source": [
    "srand(1234)\n",
    "mdp = GridWorld()\n",
    "solver1 = DPWSolver(n_iterations=n_iters, depth=depth, exploration_constant=ec)\n",
    "policy1 = solve(solver1, mdp)\n",
    "a1 = action(policy1, s0)"
   ]
  },
  {
   "cell_type": "code",
   "execution_count": 4,
   "metadata": {},
   "outputs": [
    {
     "data": {
      "text/plain": [
       ":down"
      ]
     },
     "execution_count": 4,
     "metadata": {},
     "output_type": "execute_result"
    }
   ],
   "source": [
    "srand(1234)\n",
    "mdp = GridWorld()\n",
    "bandit = DPWBandit(; exploration_constant=ec)\n",
    "solver2 = ModularSolver(n_iterations=n_iters, depth=depth, bandit=bandit)\n",
    "policy2 = solve(solver2, mdp)\n",
    "a2 = action(policy2, s0)"
   ]
  },
  {
   "cell_type": "code",
   "execution_count": 5,
   "metadata": {},
   "outputs": [
    {
     "data": {
      "text/plain": [
       "16-element Array{Any,1}:\n",
       " (:left, :left)  \n",
       " (:left, :left)  \n",
       " (:left, :left)  \n",
       " (:left, :left)  \n",
       " (:down, :down)  \n",
       " (:left, :left)  \n",
       " (:left, :left)  \n",
       " (:left, :left)  \n",
       " (:right, :right)\n",
       " (:right, :right)\n",
       " (:right, :right)\n",
       " (:right, :right)\n",
       " (:right, :right)\n",
       " (:up, :up)      \n",
       " (:right, :right)\n",
       " (:right, :right)"
      ]
     },
     "execution_count": 5,
     "metadata": {},
     "output_type": "execute_result"
    }
   ],
   "source": [
    "result = []\n",
    "i = 1\n",
    "for s1 in [1,3,5,7], s2 in [2,4,6,8]\n",
    "    s = GridWorldState(s1, s2)\n",
    "    srand(i)\n",
    "    a1 = action(policy1, s)\n",
    "    srand(i)\n",
    "    a2 = action(policy2, s)\n",
    "    i += 1\n",
    "    push!(result, (a1,a2))\n",
    "end\n",
    "all(x->x[1]==x[2],result) || warn(\"different!\")\n",
    "result"
   ]
  },
  {
   "cell_type": "code",
   "execution_count": null,
   "metadata": {},
   "outputs": [],
   "source": []
  },
  {
   "cell_type": "code",
   "execution_count": null,
   "metadata": {},
   "outputs": [],
   "source": []
  },
  {
   "cell_type": "code",
   "execution_count": null,
   "metadata": {},
   "outputs": [],
   "source": []
  }
 ],
 "metadata": {
  "kernelspec": {
   "display_name": "Julia 0.6.2",
   "language": "julia",
   "name": "julia-0.6"
  },
  "language_info": {
   "file_extension": ".jl",
   "mimetype": "application/julia",
   "name": "julia",
   "version": "0.6.2"
  }
 },
 "nbformat": 4,
 "nbformat_minor": 2
}
